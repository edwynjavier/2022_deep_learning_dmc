{
  "nbformat": 4,
  "nbformat_minor": 0,
  "metadata": {
    "colab": {
      "name": "TF_KERAS.ipynb",
      "provenance": []
    },
    "kernelspec": {
      "name": "python3",
      "display_name": "Python 3"
    },
    "language_info": {
      "name": "python"
    }
  },
  "cells": [
    {
      "cell_type": "code",
      "execution_count": null,
      "metadata": {
        "id": "wuUCFoF5DWbU"
      },
      "outputs": [],
      "source": [
        "import tensorflow as tf\n",
        "import numpy as np\n",
        "import pandas as pd\n",
        "\n",
        "import matplotlib.pyplot as plt\n",
        "\n",
        "from sklearn.model_selection import train_test_split\n",
        "from sklearn import datasets\n"
      ]
    },
    {
      "cell_type": "code",
      "source": [
        "X, y = datasets.load_iris(return_X_y=True, as_frame=True)"
      ],
      "metadata": {
        "id": "PvNr9-omDwZ3"
      },
      "execution_count": null,
      "outputs": []
    },
    {
      "cell_type": "code",
      "source": [
        "X_train, X_test, y_train, y_test = train_test_split(X, y, test_size=0.2, random_state=42)\n",
        "X_train"
      ],
      "metadata": {
        "colab": {
          "base_uri": "https://localhost:8080/",
          "height": 467
        },
        "id": "Tm0sxUfHD8j6",
        "outputId": "a72a80c7-cded-46b1-d5da-7f1134013c02"
      },
      "execution_count": null,
      "outputs": [
        {
          "output_type": "execute_result",
          "data": {
            "text/plain": [
              "     sepal length (cm)  sepal width (cm)  petal length (cm)  petal width (cm)\n",
              "22                 4.6               3.6                1.0               0.2\n",
              "15                 5.7               4.4                1.5               0.4\n",
              "65                 6.7               3.1                4.4               1.4\n",
              "11                 4.8               3.4                1.6               0.2\n",
              "42                 4.4               3.2                1.3               0.2\n",
              "..                 ...               ...                ...               ...\n",
              "71                 6.1               2.8                4.0               1.3\n",
              "106                4.9               2.5                4.5               1.7\n",
              "14                 5.8               4.0                1.2               0.2\n",
              "92                 5.8               2.6                4.0               1.2\n",
              "102                7.1               3.0                5.9               2.1\n",
              "\n",
              "[120 rows x 4 columns]"
            ],
            "text/html": [
              "\n",
              "  <div id=\"df-c0f94f6c-9f1b-4a13-873d-7bc079b9f63b\">\n",
              "    <div class=\"colab-df-container\">\n",
              "      <div>\n",
              "<style scoped>\n",
              "    .dataframe tbody tr th:only-of-type {\n",
              "        vertical-align: middle;\n",
              "    }\n",
              "\n",
              "    .dataframe tbody tr th {\n",
              "        vertical-align: top;\n",
              "    }\n",
              "\n",
              "    .dataframe thead th {\n",
              "        text-align: right;\n",
              "    }\n",
              "</style>\n",
              "<table border=\"1\" class=\"dataframe\">\n",
              "  <thead>\n",
              "    <tr style=\"text-align: right;\">\n",
              "      <th></th>\n",
              "      <th>sepal length (cm)</th>\n",
              "      <th>sepal width (cm)</th>\n",
              "      <th>petal length (cm)</th>\n",
              "      <th>petal width (cm)</th>\n",
              "    </tr>\n",
              "  </thead>\n",
              "  <tbody>\n",
              "    <tr>\n",
              "      <th>22</th>\n",
              "      <td>4.6</td>\n",
              "      <td>3.6</td>\n",
              "      <td>1.0</td>\n",
              "      <td>0.2</td>\n",
              "    </tr>\n",
              "    <tr>\n",
              "      <th>15</th>\n",
              "      <td>5.7</td>\n",
              "      <td>4.4</td>\n",
              "      <td>1.5</td>\n",
              "      <td>0.4</td>\n",
              "    </tr>\n",
              "    <tr>\n",
              "      <th>65</th>\n",
              "      <td>6.7</td>\n",
              "      <td>3.1</td>\n",
              "      <td>4.4</td>\n",
              "      <td>1.4</td>\n",
              "    </tr>\n",
              "    <tr>\n",
              "      <th>11</th>\n",
              "      <td>4.8</td>\n",
              "      <td>3.4</td>\n",
              "      <td>1.6</td>\n",
              "      <td>0.2</td>\n",
              "    </tr>\n",
              "    <tr>\n",
              "      <th>42</th>\n",
              "      <td>4.4</td>\n",
              "      <td>3.2</td>\n",
              "      <td>1.3</td>\n",
              "      <td>0.2</td>\n",
              "    </tr>\n",
              "    <tr>\n",
              "      <th>...</th>\n",
              "      <td>...</td>\n",
              "      <td>...</td>\n",
              "      <td>...</td>\n",
              "      <td>...</td>\n",
              "    </tr>\n",
              "    <tr>\n",
              "      <th>71</th>\n",
              "      <td>6.1</td>\n",
              "      <td>2.8</td>\n",
              "      <td>4.0</td>\n",
              "      <td>1.3</td>\n",
              "    </tr>\n",
              "    <tr>\n",
              "      <th>106</th>\n",
              "      <td>4.9</td>\n",
              "      <td>2.5</td>\n",
              "      <td>4.5</td>\n",
              "      <td>1.7</td>\n",
              "    </tr>\n",
              "    <tr>\n",
              "      <th>14</th>\n",
              "      <td>5.8</td>\n",
              "      <td>4.0</td>\n",
              "      <td>1.2</td>\n",
              "      <td>0.2</td>\n",
              "    </tr>\n",
              "    <tr>\n",
              "      <th>92</th>\n",
              "      <td>5.8</td>\n",
              "      <td>2.6</td>\n",
              "      <td>4.0</td>\n",
              "      <td>1.2</td>\n",
              "    </tr>\n",
              "    <tr>\n",
              "      <th>102</th>\n",
              "      <td>7.1</td>\n",
              "      <td>3.0</td>\n",
              "      <td>5.9</td>\n",
              "      <td>2.1</td>\n",
              "    </tr>\n",
              "  </tbody>\n",
              "</table>\n",
              "<p>120 rows × 4 columns</p>\n",
              "</div>\n",
              "      <button class=\"colab-df-convert\" onclick=\"convertToInteractive('df-c0f94f6c-9f1b-4a13-873d-7bc079b9f63b')\"\n",
              "              title=\"Convert this dataframe to an interactive table.\"\n",
              "              style=\"display:none;\">\n",
              "        \n",
              "  <svg xmlns=\"http://www.w3.org/2000/svg\" height=\"24px\"viewBox=\"0 0 24 24\"\n",
              "       width=\"24px\">\n",
              "    <path d=\"M0 0h24v24H0V0z\" fill=\"none\"/>\n",
              "    <path d=\"M18.56 5.44l.94 2.06.94-2.06 2.06-.94-2.06-.94-.94-2.06-.94 2.06-2.06.94zm-11 1L8.5 8.5l.94-2.06 2.06-.94-2.06-.94L8.5 2.5l-.94 2.06-2.06.94zm10 10l.94 2.06.94-2.06 2.06-.94-2.06-.94-.94-2.06-.94 2.06-2.06.94z\"/><path d=\"M17.41 7.96l-1.37-1.37c-.4-.4-.92-.59-1.43-.59-.52 0-1.04.2-1.43.59L10.3 9.45l-7.72 7.72c-.78.78-.78 2.05 0 2.83L4 21.41c.39.39.9.59 1.41.59.51 0 1.02-.2 1.41-.59l7.78-7.78 2.81-2.81c.8-.78.8-2.07 0-2.86zM5.41 20L4 18.59l7.72-7.72 1.47 1.35L5.41 20z\"/>\n",
              "  </svg>\n",
              "      </button>\n",
              "      \n",
              "  <style>\n",
              "    .colab-df-container {\n",
              "      display:flex;\n",
              "      flex-wrap:wrap;\n",
              "      gap: 12px;\n",
              "    }\n",
              "\n",
              "    .colab-df-convert {\n",
              "      background-color: #E8F0FE;\n",
              "      border: none;\n",
              "      border-radius: 50%;\n",
              "      cursor: pointer;\n",
              "      display: none;\n",
              "      fill: #1967D2;\n",
              "      height: 32px;\n",
              "      padding: 0 0 0 0;\n",
              "      width: 32px;\n",
              "    }\n",
              "\n",
              "    .colab-df-convert:hover {\n",
              "      background-color: #E2EBFA;\n",
              "      box-shadow: 0px 1px 2px rgba(60, 64, 67, 0.3), 0px 1px 3px 1px rgba(60, 64, 67, 0.15);\n",
              "      fill: #174EA6;\n",
              "    }\n",
              "\n",
              "    [theme=dark] .colab-df-convert {\n",
              "      background-color: #3B4455;\n",
              "      fill: #D2E3FC;\n",
              "    }\n",
              "\n",
              "    [theme=dark] .colab-df-convert:hover {\n",
              "      background-color: #434B5C;\n",
              "      box-shadow: 0px 1px 3px 1px rgba(0, 0, 0, 0.15);\n",
              "      filter: drop-shadow(0px 1px 2px rgba(0, 0, 0, 0.3));\n",
              "      fill: #FFFFFF;\n",
              "    }\n",
              "  </style>\n",
              "\n",
              "      <script>\n",
              "        const buttonEl =\n",
              "          document.querySelector('#df-c0f94f6c-9f1b-4a13-873d-7bc079b9f63b button.colab-df-convert');\n",
              "        buttonEl.style.display =\n",
              "          google.colab.kernel.accessAllowed ? 'block' : 'none';\n",
              "\n",
              "        async function convertToInteractive(key) {\n",
              "          const element = document.querySelector('#df-c0f94f6c-9f1b-4a13-873d-7bc079b9f63b');\n",
              "          const dataTable =\n",
              "            await google.colab.kernel.invokeFunction('convertToInteractive',\n",
              "                                                     [key], {});\n",
              "          if (!dataTable) return;\n",
              "\n",
              "          const docLinkHtml = 'Like what you see? Visit the ' +\n",
              "            '<a target=\"_blank\" href=https://colab.research.google.com/notebooks/data_table.ipynb>data table notebook</a>'\n",
              "            + ' to learn more about interactive tables.';\n",
              "          element.innerHTML = '';\n",
              "          dataTable['output_type'] = 'display_data';\n",
              "          await google.colab.output.renderOutput(dataTable, element);\n",
              "          const docLink = document.createElement('div');\n",
              "          docLink.innerHTML = docLinkHtml;\n",
              "          element.appendChild(docLink);\n",
              "        }\n",
              "      </script>\n",
              "    </div>\n",
              "  </div>\n",
              "  "
            ]
          },
          "metadata": {},
          "execution_count": 4
        }
      ]
    },
    {
      "cell_type": "code",
      "source": [
        "# First, we initialize the model.\n",
        "model = tf.keras.models.Sequential()"
      ],
      "metadata": {
        "id": "kY2DW1NMEBD8"
      },
      "execution_count": null,
      "outputs": []
    },
    {
      "cell_type": "code",
      "source": [
        "# First our input layer. For this layer, and this layer only, we need to specify the size of our input. For our dataset this means the amount of columns in our X.\n",
        "model.add(tf.keras.layers.Dense(10, activation=tf.nn.relu, input_shape=(X.shape[1],)))\n",
        "# Now some hidden layers\n",
        "model.add(tf.keras.layers.Dense(10, activation=tf.nn.relu))\n",
        "model.add(tf.keras.layers.Dense(10, activation=tf.nn.relu))\n",
        "# Finally, our output layer. Since we have 3 possible classes, we need 3 output neurons. \n",
        "# For a regression problem, we would have only 1. For an image creation network, we would have as many pixels as the image we wanted to create!\n",
        "model.add(tf.keras.layers.Dense(3))\n",
        "# A final layer with several output neurons gives us logits as results. \n",
        "#We can do a final pass with a Softmax layer to turn them into percentages.\n",
        "model.add(tf.keras.layers.Softmax())"
      ],
      "metadata": {
        "id": "WHU0wFj5EJhn"
      },
      "execution_count": null,
      "outputs": []
    },
    {
      "cell_type": "code",
      "source": [
        "optim = tf.keras.optimizers.Adam(learning_rate=0.01)"
      ],
      "metadata": {
        "id": "jVGDInNGEZrh"
      },
      "execution_count": null,
      "outputs": []
    },
    {
      "cell_type": "code",
      "source": [
        "model.compile(\n",
        "    loss=tf.keras.losses.SparseCategoricalCrossentropy(from_logits=False),\n",
        "    optimizer=optim,metrics=['accuracy'])"
      ],
      "metadata": {
        "id": "GrD9prrGEcnA"
      },
      "execution_count": null,
      "outputs": []
    },
    {
      "cell_type": "code",
      "source": [
        "history = model.fit(X_train.values, y_train.values,\n",
        "        validation_data=(X_test.values, y_test.values),\n",
        "        epochs = 20,\n",
        "        batch_size=32)\n"
      ],
      "metadata": {
        "colab": {
          "base_uri": "https://localhost:8080/"
        },
        "id": "b5Z_yCh0EmhQ",
        "outputId": "69950acb-5e62-404e-9f75-65a5176d171e"
      },
      "execution_count": null,
      "outputs": [
        {
          "output_type": "stream",
          "name": "stdout",
          "text": [
            "Epoch 1/20\n",
            "4/4 [==============================] - 1s 66ms/step - loss: 1.1134 - accuracy: 0.5750 - val_loss: 1.0329 - val_accuracy: 0.5333\n",
            "Epoch 2/20\n",
            "4/4 [==============================] - 0s 10ms/step - loss: 1.0068 - accuracy: 0.5333 - val_loss: 0.9423 - val_accuracy: 0.5667\n",
            "Epoch 3/20\n",
            "4/4 [==============================] - 0s 9ms/step - loss: 0.9214 - accuracy: 0.6917 - val_loss: 0.8431 - val_accuracy: 0.7667\n",
            "Epoch 4/20\n",
            "4/4 [==============================] - 0s 9ms/step - loss: 0.8194 - accuracy: 0.8000 - val_loss: 0.7328 - val_accuracy: 0.8000\n",
            "Epoch 5/20\n",
            "4/4 [==============================] - 0s 9ms/step - loss: 0.7143 - accuracy: 0.8500 - val_loss: 0.6437 - val_accuracy: 0.8667\n",
            "Epoch 6/20\n",
            "4/4 [==============================] - 0s 11ms/step - loss: 0.6066 - accuracy: 0.9667 - val_loss: 0.5445 - val_accuracy: 0.9333\n",
            "Epoch 7/20\n",
            "4/4 [==============================] - 0s 15ms/step - loss: 0.4981 - accuracy: 0.9500 - val_loss: 0.4165 - val_accuracy: 0.9333\n",
            "Epoch 8/20\n",
            "4/4 [==============================] - 0s 11ms/step - loss: 0.3903 - accuracy: 0.9250 - val_loss: 0.3145 - val_accuracy: 0.9667\n",
            "Epoch 9/20\n",
            "4/4 [==============================] - 0s 11ms/step - loss: 0.3040 - accuracy: 0.9417 - val_loss: 0.2290 - val_accuracy: 0.9667\n",
            "Epoch 10/20\n",
            "4/4 [==============================] - 0s 11ms/step - loss: 0.2275 - accuracy: 0.9667 - val_loss: 0.1737 - val_accuracy: 0.9667\n",
            "Epoch 11/20\n",
            "4/4 [==============================] - 0s 10ms/step - loss: 0.2161 - accuracy: 0.9083 - val_loss: 0.1827 - val_accuracy: 0.9000\n",
            "Epoch 12/20\n",
            "4/4 [==============================] - 0s 10ms/step - loss: 0.1356 - accuracy: 0.9750 - val_loss: 0.1409 - val_accuracy: 0.9667\n",
            "Epoch 13/20\n",
            "4/4 [==============================] - 0s 10ms/step - loss: 0.1401 - accuracy: 0.9333 - val_loss: 0.1419 - val_accuracy: 0.9667\n",
            "Epoch 14/20\n",
            "4/4 [==============================] - 0s 9ms/step - loss: 0.1335 - accuracy: 0.9583 - val_loss: 0.1356 - val_accuracy: 0.9333\n",
            "Epoch 15/20\n",
            "4/4 [==============================] - 0s 9ms/step - loss: 0.1533 - accuracy: 0.9333 - val_loss: 0.0962 - val_accuracy: 1.0000\n",
            "Epoch 16/20\n",
            "4/4 [==============================] - 0s 11ms/step - loss: 0.1261 - accuracy: 0.9500 - val_loss: 0.2218 - val_accuracy: 0.8333\n",
            "Epoch 17/20\n",
            "4/4 [==============================] - 0s 10ms/step - loss: 0.1164 - accuracy: 0.9500 - val_loss: 0.0797 - val_accuracy: 1.0000\n",
            "Epoch 18/20\n",
            "4/4 [==============================] - 0s 12ms/step - loss: 0.1468 - accuracy: 0.9500 - val_loss: 0.0710 - val_accuracy: 1.0000\n",
            "Epoch 19/20\n",
            "4/4 [==============================] - 0s 13ms/step - loss: 0.1509 - accuracy: 0.9417 - val_loss: 0.1010 - val_accuracy: 0.9667\n",
            "Epoch 20/20\n",
            "4/4 [==============================] - 0s 11ms/step - loss: 0.1007 - accuracy: 0.9583 - val_loss: 0.0632 - val_accuracy: 1.0000\n"
          ]
        }
      ]
    },
    {
      "cell_type": "code",
      "source": [
        "plt.plot(history.history['loss'], label='Sparse Categorical Crossentropy (training data)')\n",
        "plt.plot(history.history['val_loss'], label='Sparse Categorical Crossentropy (validation data)')\n",
        "plt.title('Training History')\n",
        "plt.ylabel('Loss')\n",
        "plt.xlabel('Epoch #')\n",
        "plt.legend(loc=\"upper left\")\n",
        "plt.show()\n"
      ],
      "metadata": {
        "colab": {
          "base_uri": "https://localhost:8080/",
          "height": 295
        },
        "id": "3hWhnSwbEwu9",
        "outputId": "a6e7e3d6-ca82-413f-ebae-6181b4b6420e"
      },
      "execution_count": null,
      "outputs": [
        {
          "output_type": "display_data",
          "data": {
            "text/plain": [
              "<Figure size 432x288 with 1 Axes>"
            ],
            "image/png": "[encoded data removed]"
          },
          "metadata": {
            "needs_background": "light"
          }
        }
      ]
    },
    {
      "cell_type": "code",
      "source": [
        "model.predict(X_test[:1])\n",
        "\n",
        "#10: Ver el desempeño\n",
        "predictions = model.predict(X_test)\n",
        "for idx, prediction in enumerate(predictions):\n",
        "    print('We predict: '+str(np.argmax(prediction))+'. Real Species was: '+str(y_test.iloc[idx]))"
      ],
      "metadata": {
        "id": "lk0zzBm1FEcb",
        "outputId": "97e2c291-6b84-4a1f-d033-08507a013b3f",
        "colab": {
          "base_uri": "https://localhost:8080/"
        }
      },
      "execution_count": null,
      "outputs": [
        {
          "output_type": "stream",
          "name": "stdout",
          "text": [
            "We predict: 1. Real Species was: 1\n",
            "We predict: 0. Real Species was: 0\n",
            "We predict: 2. Real Species was: 2\n",
            "We predict: 1. Real Species was: 1\n",
            "We predict: 1. Real Species was: 1\n",
            "We predict: 0. Real Species was: 0\n",
            "We predict: 1. Real Species was: 1\n",
            "We predict: 2. Real Species was: 2\n",
            "We predict: 2. Real Species was: 1\n",
            "We predict: 1. Real Species was: 1\n",
            "We predict: 2. Real Species was: 2\n",
            "We predict: 0. Real Species was: 0\n",
            "We predict: 0. Real Species was: 0\n",
            "We predict: 0. Real Species was: 0\n",
            "We predict: 0. Real Species was: 0\n",
            "We predict: 1. Real Species was: 1\n",
            "We predict: 2. Real Species was: 2\n",
            "We predict: 1. Real Species was: 1\n",
            "We predict: 1. Real Species was: 1\n",
            "We predict: 2. Real Species was: 2\n",
            "We predict: 0. Real Species was: 0\n",
            "We predict: 2. Real Species was: 2\n",
            "We predict: 0. Real Species was: 0\n",
            "We predict: 2. Real Species was: 2\n",
            "We predict: 1. Real Species was: 2\n",
            "We predict: 2. Real Species was: 2\n",
            "We predict: 2. Real Species was: 2\n",
            "We predict: 2. Real Species was: 2\n",
            "We predict: 0. Real Species was: 0\n",
            "We predict: 0. Real Species was: 0\n"
          ]
        }
      ]
    }
  ]
}