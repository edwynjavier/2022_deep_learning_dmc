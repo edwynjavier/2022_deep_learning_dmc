{
  "nbformat": 4,
  "nbformat_minor": 0,
  "metadata": {
    "colab": {
      "name": "NN_perceptron.ipynb",
      "provenance": [],
      "collapsed_sections": [],
      "toc_visible": true
    },
    "kernelspec": {
      "name": "python3",
      "display_name": "Python 3"
    }
  },
  "cells": [
    {
      "cell_type": "markdown",
      "metadata": {
        "id": "53LRQ8L2S5kC"
      },
      "source": [
        "# Perceptron Implementation\n",
        "\n",
        "We have created an implementation of a perceptron with the following properties:\n",
        "\n",
        "\n",
        "1.   The weigths updating is carried out by means of **Delta Rule**\n",
        "2.   The activation function by defaults is $Tanh$\n",
        "\n",
        "\n"
      ]
    },
    {
      "cell_type": "code",
      "metadata": {
        "id": "stwJzwf6e0_X"
      },
      "source": [
        "import random\n",
        "import numpy\n",
        "import math\n",
        "\n",
        "class Perceptron():\n",
        "    \n",
        "    #Initialization\n",
        "    def __init__(self, learning_rate=0.01, activation=math.tanh, epochs=100):\n",
        "        self.n = learning_rate\n",
        "        self.epochs=epochs\n",
        "        self.activation=activation\n",
        "        self.w=None\n",
        "\n",
        "    #Training Method\n",
        "    def fit(self, xTrain:list, yTrain:list):\n",
        "        self.w = self.__generarPesos(len(xTrain[0])+1)\n",
        "        x = self.__fillX(xTrain)\n",
        "        y = yTrain\n",
        "        for i in range(self.epochs):\n",
        "            deltaW = self.__aprendizaje(x, y) #Basic perceptron operation\n",
        "            self.w = self.__actualizarPesos(deltaW) # Update Weigths\n",
        "\n",
        "        return self.w\n",
        "    #Prediction Method\n",
        "    def predict(self, dataSet: list):\n",
        "        predicciones = []\n",
        "        \n",
        "        for i in range(0,len(dataSet)):\n",
        "            prediccion = self.__predictVector(dataSet[i])\n",
        "            predicciones.append(prediccion)\n",
        "\n",
        "        return predicciones\n",
        "\n",
        "######################## Métodos auxiliares ########################\n",
        "    def __predictVector(self, vector: list):\n",
        "        vectorX0 = self.__addX0(vector)\n",
        "\n",
        "        resultado = self.__funcionActivacion(self.__productoPunto(self.w,vectorX0))\n",
        "        return resultado\n",
        "\n",
        "    def __generarPesos(self, longitud: int, seed=1):\n",
        "        random.seed(seed)\n",
        "        w = []\n",
        "        for i in range(0,longitud):\n",
        "            w.append(random.uniform(-1,1))\n",
        "        return w\n",
        "\n",
        "    def __funcionActivacion(self, yValue: float):\n",
        "        evaluacion = self.activation(yValue)\n",
        "        evaluacion =math.ceil(evaluacion)\n",
        "        if (evaluacion == -1): # consider tanh, sigm\n",
        "            return 0\n",
        "        else:\n",
        "            return 1\n",
        "\n",
        "    def __productoPunto(self, w: list, x: list):\n",
        "        resultado = numpy.dot(w, x)\n",
        "        return resultado\n",
        "\n",
        "    def __aprendizaje(self, x: list, y: list):\n",
        "        deltaW = []\n",
        "        for i in range(len(self.w)):\n",
        "            wi = 0\n",
        "            for j in range(len(x)):\n",
        "                od = self.__predictVector(x[j])\n",
        "                wi += (y[j] - od) * x[j][i] #Gradiente descendente\n",
        "            wi *= self.n\n",
        "            deltaW.append(wi)\n",
        "        return deltaW\n",
        "\n",
        "    def __actualizarPesos(self, deltaW: list):\n",
        "        resultado = []\n",
        "        for i in range(len(self.w)):\n",
        "            resultado.append(self.w[i]+deltaW[i])\n",
        "        return resultado\n",
        "\n",
        "    def __addX0(self, xi):\n",
        "        xiX0 = xi.copy()\n",
        "        \n",
        "        if len(xiX0) != len(self.w):\n",
        "            xiX0.insert(0,1)\n",
        "        \n",
        "        return xiX0\n",
        "\n",
        "    def __fillX(self, x):\n",
        "        xFilled = []\n",
        "        for i in range(len(x)):\n",
        "            xFilled.append(self.__addX0(x[i]))\n",
        "        return xFilled\n",
        "\n",
        "    def obtenerX(self, dataSet: list):\n",
        "        x = []\n",
        "        for i in range(len(dataSet)):\n",
        "            vX = []\n",
        "            for j in range(len(dataSet[i])-1):\n",
        "                vX.append(dataSet[i][j])\n",
        "            x.append(vX)\n",
        "        return x\n",
        "\n",
        "    def obtenerY(self, dataSet: list):\n",
        "        y = []\n",
        "        for i in range(len(dataSet)):\n",
        "                y.append(dataSet[i][-1])\n",
        "        return y"
      ],
      "execution_count": 2,
      "outputs": []
    },
    {
      "cell_type": "markdown",
      "metadata": {
        "id": "G7Ovgszpmo28"
      },
      "source": [
        "## Load Data"
      ]
    },
    {
      "cell_type": "code",
      "metadata": {
        "id": "Xlu2rxdSTzec",
        "colab": {
          "base_uri": "https://localhost:8080/",
          "height": 300
        },
        "outputId": "4799da72-4d5c-4823-f445-78eb3fcef0ad"
      },
      "source": [
        "import pandas as pd\n",
        "######################################################\n",
        "#Uncomment the block online or local depending your\n",
        "#execution environment\n",
        "######################################################\n",
        "#Mount Directory\n",
        "from google.colab import files\n",
        "uploaded = files.upload()\n",
        "import io\n",
        "dataset = pd.read_csv(io.BytesIO(uploaded['clientes.csv']), header=0, encoding=\"utf-8\",sep=\"\\t\")\n",
        "dataset.columns=['x1', 'x2','default']\n",
        "#Online\n",
        "#Load dataset\n",
        "#dataset = pd.read_csv('data3.csv')\n",
        "\n",
        "#Show dataset \n",
        "dataset.head()\n",
        "dataset.describe()\n"
      ],
      "execution_count": 4,
      "outputs": [
        {
          "output_type": "execute_result",
          "data": {
            "text/plain": [
              "               x1          x2     default\n",
              "count  199.000000  199.000000  199.000000\n",
              "mean     0.389006    0.438467    0.502513\n",
              "std      0.125591    0.287411    0.501255\n",
              "min      0.150372    0.050981    0.000000\n",
              "25%      0.283122    0.149911    0.000000\n",
              "50%      0.400260    0.603972    1.000000\n",
              "75%      0.489189    0.720197    1.000000\n",
              "max      0.654714    0.825490    1.000000"
            ],
            "text/html": [
              "\n",
              "  <div id=\"df-917eb4a5-5cae-48d2-99e2-e0fe545cbcc3\">\n",
              "    <div class=\"colab-df-container\">\n",
              "      <div>\n",
              "<style scoped>\n",
              "    .dataframe tbody tr th:only-of-type {\n",
              "        vertical-align: middle;\n",
              "    }\n",
              "\n",
              "    .dataframe tbody tr th {\n",
              "        vertical-align: top;\n",
              "    }\n",
              "\n",
              "    .dataframe thead th {\n",
              "        text-align: right;\n",
              "    }\n",
              "</style>\n",
              "<table border=\"1\" class=\"dataframe\">\n",
              "  <thead>\n",
              "    <tr style=\"text-align: right;\">\n",
              "      <th></th>\n",
              "      <th>x1</th>\n",
              "      <th>x2</th>\n",
              "      <th>default</th>\n",
              "    </tr>\n",
              "  </thead>\n",
              "  <tbody>\n",
              "    <tr>\n",
              "      <th>count</th>\n",
              "      <td>199.000000</td>\n",
              "      <td>199.000000</td>\n",
              "      <td>199.000000</td>\n",
              "    </tr>\n",
              "    <tr>\n",
              "      <th>mean</th>\n",
              "      <td>0.389006</td>\n",
              "      <td>0.438467</td>\n",
              "      <td>0.502513</td>\n",
              "    </tr>\n",
              "    <tr>\n",
              "      <th>std</th>\n",
              "      <td>0.125591</td>\n",
              "      <td>0.287411</td>\n",
              "      <td>0.501255</td>\n",
              "    </tr>\n",
              "    <tr>\n",
              "      <th>min</th>\n",
              "      <td>0.150372</td>\n",
              "      <td>0.050981</td>\n",
              "      <td>0.000000</td>\n",
              "    </tr>\n",
              "    <tr>\n",
              "      <th>25%</th>\n",
              "      <td>0.283122</td>\n",
              "      <td>0.149911</td>\n",
              "      <td>0.000000</td>\n",
              "    </tr>\n",
              "    <tr>\n",
              "      <th>50%</th>\n",
              "      <td>0.400260</td>\n",
              "      <td>0.603972</td>\n",
              "      <td>1.000000</td>\n",
              "    </tr>\n",
              "    <tr>\n",
              "      <th>75%</th>\n",
              "      <td>0.489189</td>\n",
              "      <td>0.720197</td>\n",
              "      <td>1.000000</td>\n",
              "    </tr>\n",
              "    <tr>\n",
              "      <th>max</th>\n",
              "      <td>0.654714</td>\n",
              "      <td>0.825490</td>\n",
              "      <td>1.000000</td>\n",
              "    </tr>\n",
              "  </tbody>\n",
              "</table>\n",
              "</div>\n",
              "      <button class=\"colab-df-convert\" onclick=\"convertToInteractive('df-917eb4a5-5cae-48d2-99e2-e0fe545cbcc3')\"\n",
              "              title=\"Convert this dataframe to an interactive table.\"\n",
              "              style=\"display:none;\">\n",
              "        \n",
              "  <svg xmlns=\"http://www.w3.org/2000/svg\" height=\"24px\"viewBox=\"0 0 24 24\"\n",
              "       width=\"24px\">\n",
              "    <path d=\"M0 0h24v24H0V0z\" fill=\"none\"/>\n",
              "    <path d=\"M18.56 5.44l.94 2.06.94-2.06 2.06-.94-2.06-.94-.94-2.06-.94 2.06-2.06.94zm-11 1L8.5 8.5l.94-2.06 2.06-.94-2.06-.94L8.5 2.5l-.94 2.06-2.06.94zm10 10l.94 2.06.94-2.06 2.06-.94-2.06-.94-.94-2.06-.94 2.06-2.06.94z\"/><path d=\"M17.41 7.96l-1.37-1.37c-.4-.4-.92-.59-1.43-.59-.52 0-1.04.2-1.43.59L10.3 9.45l-7.72 7.72c-.78.78-.78 2.05 0 2.83L4 21.41c.39.39.9.59 1.41.59.51 0 1.02-.2 1.41-.59l7.78-7.78 2.81-2.81c.8-.78.8-2.07 0-2.86zM5.41 20L4 18.59l7.72-7.72 1.47 1.35L5.41 20z\"/>\n",
              "  </svg>\n",
              "      </button>\n",
              "      \n",
              "  <style>\n",
              "    .colab-df-container {\n",
              "      display:flex;\n",
              "      flex-wrap:wrap;\n",
              "      gap: 12px;\n",
              "    }\n",
              "\n",
              "    .colab-df-convert {\n",
              "      background-color: #E8F0FE;\n",
              "      border: none;\n",
              "      border-radius: 50%;\n",
              "      cursor: pointer;\n",
              "      display: none;\n",
              "      fill: #1967D2;\n",
              "      height: 32px;\n",
              "      padding: 0 0 0 0;\n",
              "      width: 32px;\n",
              "    }\n",
              "\n",
              "    .colab-df-convert:hover {\n",
              "      background-color: #E2EBFA;\n",
              "      box-shadow: 0px 1px 2px rgba(60, 64, 67, 0.3), 0px 1px 3px 1px rgba(60, 64, 67, 0.15);\n",
              "      fill: #174EA6;\n",
              "    }\n",
              "\n",
              "    [theme=dark] .colab-df-convert {\n",
              "      background-color: #3B4455;\n",
              "      fill: #D2E3FC;\n",
              "    }\n",
              "\n",
              "    [theme=dark] .colab-df-convert:hover {\n",
              "      background-color: #434B5C;\n",
              "      box-shadow: 0px 1px 3px 1px rgba(0, 0, 0, 0.15);\n",
              "      filter: drop-shadow(0px 1px 2px rgba(0, 0, 0, 0.3));\n",
              "      fill: #FFFFFF;\n",
              "    }\n",
              "  </style>\n",
              "\n",
              "      <script>\n",
              "        const buttonEl =\n",
              "          document.querySelector('#df-917eb4a5-5cae-48d2-99e2-e0fe545cbcc3 button.colab-df-convert');\n",
              "        buttonEl.style.display =\n",
              "          google.colab.kernel.accessAllowed ? 'block' : 'none';\n",
              "\n",
              "        async function convertToInteractive(key) {\n",
              "          const element = document.querySelector('#df-917eb4a5-5cae-48d2-99e2-e0fe545cbcc3');\n",
              "          const dataTable =\n",
              "            await google.colab.kernel.invokeFunction('convertToInteractive',\n",
              "                                                     [key], {});\n",
              "          if (!dataTable) return;\n",
              "\n",
              "          const docLinkHtml = 'Like what you see? Visit the ' +\n",
              "            '<a target=\"_blank\" href=https://colab.research.google.com/notebooks/data_table.ipynb>data table notebook</a>'\n",
              "            + ' to learn more about interactive tables.';\n",
              "          element.innerHTML = '';\n",
              "          dataTable['output_type'] = 'display_data';\n",
              "          await google.colab.output.renderOutput(dataTable, element);\n",
              "          const docLink = document.createElement('div');\n",
              "          docLink.innerHTML = docLinkHtml;\n",
              "          element.appendChild(docLink);\n",
              "        }\n",
              "      </script>\n",
              "    </div>\n",
              "  </div>\n",
              "  "
            ]
          },
          "metadata": {},
          "execution_count": 4
        }
      ]
    },
    {
      "cell_type": "markdown",
      "metadata": {
        "id": "gIQPVu-CEo68"
      },
      "source": [
        "##**Data Visualization**"
      ]
    },
    {
      "cell_type": "code",
      "metadata": {
        "colab": {
          "base_uri": "https://localhost:8080/",
          "height": 285
        },
        "id": "-7OKWip8Enpk",
        "outputId": "280272b6-bc98-4136-97d9-cfc453616512"
      },
      "source": [
        "#Optional: Visualize data\n",
        "import seaborn as sns; sns.set()\n",
        "import matplotlib.pyplot as plt\n",
        "ax = sns.scatterplot(x=\"x1\", y=\"x2\", data=dataset)"
      ],
      "execution_count": 5,
      "outputs": [
        {
          "output_type": "display_data",
          "data": {
            "text/plain": [
              "<Figure size 432x288 with 1 Axes>"
            ],
            "image/png": "[encoded data removed]"
          },
          "metadata": {}
        }
      ]
    },
    {
      "cell_type": "markdown",
      "metadata": {
        "id": "WInxA2Sfn-Lf"
      },
      "source": [
        "## **Training**"
      ]
    },
    {
      "cell_type": "code",
      "metadata": {
        "id": "2vR8Snlzf-4E"
      },
      "source": [
        "\n",
        "#This task depends on several assumptions based on experience, for instance, \n",
        "X = dataset.loc[:, 'x1':'x2'] \n",
        "y = dataset['default'] # Unknown rows, one column\n",
        "\n"
      ],
      "execution_count": 6,
      "outputs": []
    },
    {
      "cell_type": "markdown",
      "metadata": {
        "id": "K-cDPlXtoxF8"
      },
      "source": [
        "### Define training and test datasets"
      ]
    },
    {
      "cell_type": "code",
      "metadata": {
        "id": "xgVCifU4o1zH"
      },
      "source": [
        "from sklearn.model_selection import train_test_split\n",
        "#Define the sizes of training set and test dataset, applying 80-20 criterion\n",
        "X_train, X_test, y_train, y_test = train_test_split(X, y, test_size=0.2, random_state=0)"
      ],
      "execution_count": 7,
      "outputs": []
    },
    {
      "cell_type": "markdown",
      "metadata": {
        "id": "wPZMBR3_pmMC"
      },
      "source": [
        "Create an instance of my perceptron"
      ]
    },
    {
      "cell_type": "code",
      "metadata": {
        "id": "PcGWJUwxprSQ"
      },
      "source": [
        "myPerceptron = Perceptron(epochs=1000, learning_rate=0.1)"
      ],
      "execution_count": 8,
      "outputs": []
    },
    {
      "cell_type": "markdown",
      "metadata": {
        "id": "rgDIsCYnpxtQ"
      },
      "source": [
        "### Training process"
      ]
    },
    {
      "cell_type": "code",
      "metadata": {
        "id": "84Hfb_ijqAma",
        "colab": {
          "base_uri": "https://localhost:8080/"
        },
        "outputId": "1af78889-1d8d-43af-b1d6-df57ee5fe983"
      },
      "source": [
        "myPerceptron.fit(X_train.values.tolist(),\n",
        "                 y_train.values.tolist())"
      ],
      "execution_count": 9,
      "outputs": [
        {
          "output_type": "execute_result",
          "data": {
            "text/plain": [
              "[-16.631271511775196, -8.678273619011819, 2.644371576091462]"
            ]
          },
          "metadata": {},
          "execution_count": 9
        }
      ]
    },
    {
      "cell_type": "markdown",
      "metadata": {
        "id": "xVYrjj7FvACh"
      },
      "source": [
        "## **Prediction**"
      ]
    },
    {
      "cell_type": "code",
      "metadata": {
        "id": "GD5x83LavDah",
        "colab": {
          "base_uri": "https://localhost:8080/"
        },
        "outputId": "b1adb1fb-363f-4678-86ff-bfc781e81252"
      },
      "source": [
        "y_pred=myPerceptron.predict(X_test.values.tolist())\n",
        "\n",
        "print(y_test)\n",
        "print(y_pred)"
      ],
      "execution_count": null,
      "outputs": [
        {
          "output_type": "stream",
          "name": "stdout",
          "text": [
            "18     0\n",
            "169    1\n",
            "106    1\n",
            "92     0\n",
            "176    1\n",
            "183    1\n",
            "5      0\n",
            "139    1\n",
            "12     0\n",
            "160    1\n",
            "61     0\n",
            "124    1\n",
            "164    1\n",
            "145    1\n",
            "80     0\n",
            "7      0\n",
            "33     0\n",
            "129    1\n",
            "37     0\n",
            "74     0\n",
            "159    1\n",
            "144    1\n",
            "45     0\n",
            "158    1\n",
            "60     0\n",
            "122    1\n",
            "178    1\n",
            "184    1\n",
            "97     0\n",
            "44     0\n",
            "16     0\n",
            "55     0\n",
            "83     0\n",
            "110    1\n",
            "22     0\n",
            "188    1\n",
            "135    1\n",
            "4      0\n",
            "137    1\n",
            "193    1\n",
            "Name: default, dtype: int64\n",
            "[0, 0, 0, 0, 0, 0, 0, 0, 0, 0, 0, 0, 0, 0, 0, 0, 0, 0, 0, 0, 0, 0, 0, 0, 0, 0, 0, 0, 0, 0, 0, 0, 0, 0, 0, 0, 0, 0, 0, 0]\n"
          ]
        }
      ]
    },
    {
      "cell_type": "markdown",
      "metadata": {
        "id": "VCRDQSufvTnf"
      },
      "source": [
        "### Evaluation\n"
      ]
    },
    {
      "cell_type": "code",
      "metadata": {
        "id": "jEusauAQvXXz",
        "colab": {
          "base_uri": "https://localhost:8080/"
        },
        "outputId": "82cfe69f-f27e-41df-d9f5-8b1c5445db59"
      },
      "source": [
        "from sklearn.metrics import confusion_matrix\n",
        "from sklearn import metrics\n",
        "confusion_matrix = confusion_matrix(y_test.values.tolist(), y_pred)\n",
        "print(confusion_matrix)\n",
        "print(\"Perceptron Accuracy:\",metrics.accuracy_score(y_test, y_pred))"
      ],
      "execution_count": null,
      "outputs": [
        {
          "output_type": "stream",
          "name": "stdout",
          "text": [
            "[[19  0]\n",
            " [21  0]]\n",
            "Perceptron Accuracy: 0.475\n"
          ]
        }
      ]
    },
    {
      "cell_type": "markdown",
      "metadata": {
        "id": "-y2zkY8Cy4Hd"
      },
      "source": [
        "### Prediction Visualization"
      ]
    },
    {
      "cell_type": "code",
      "metadata": {
        "id": "sQZklV1gy6yM",
        "colab": {
          "base_uri": "https://localhost:8080/",
          "height": 285
        },
        "outputId": "0824cb94-03e6-4083-8a4c-90de525d86f1"
      },
      "source": [
        "ax = sns.scatterplot(x=\"x1\", y=\"x2\", data=X_test, hue=y_pred)"
      ],
      "execution_count": null,
      "outputs": [
        {
          "output_type": "display_data",
          "data": {
            "image/png": "[encoded data removed]",
            "text/plain": [
              "<Figure size 432x288 with 1 Axes>"
            ]
          },
          "metadata": {}
        }
      ]
    },
    {
      "cell_type": "markdown",
      "metadata": {
        "id": "AhZDBk1aHOTL"
      },
      "source": [
        "## **Exercise 1**: \n",
        "Train the perceptron using the dataset clientes2.csv and describe the resulting predictions."
      ]
    },
    {
      "cell_type": "markdown",
      "metadata": {
        "id": "yw8Pccixys_W"
      },
      "source": [
        "## **Exercise 2:**\n",
        "Execute the following code, that contains the definition of another activation function known as \"sigmoid\". Modify the code of the perceptron to use this function.\n",
        "\n"
      ]
    },
    {
      "cell_type": "code",
      "metadata": {
        "id": "ctoY-sG-0Wfr"
      },
      "source": [
        "def sigmoid(value):\n",
        "    if -value > np.log(np.finfo(type(value)).max):\n",
        "        return 0.0    \n",
        "    a = np.exp(-value)\n",
        "    return 1.0/ (1.0 + a)"
      ],
      "execution_count": null,
      "outputs": []
    }
  ]
}